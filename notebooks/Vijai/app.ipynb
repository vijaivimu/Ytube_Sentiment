{
 "cells": [
  {
   "cell_type": "code",
   "execution_count": 2,
   "metadata": {},
   "outputs": [],
   "source": [
    "from googleapiclient.discovery import build\n",
    "import pandas as pd\n",
    "from dotenv import load_dotenv\n",
    "import os"
   ]
  },
  {
   "cell_type": "code",
   "execution_count": 3,
   "metadata": {},
   "outputs": [],
   "source": [
    "# Load environment variables from .env file\n",
    "load_dotenv()\n",
    "\n",
    "# Get API Key from .env\n",
    "API_KEY = os.getenv('YOUTUBE_API_KEY')"
   ]
  },
  {
   "cell_type": "code",
   "execution_count": 5,
   "metadata": {},
   "outputs": [],
   "source": [
    "def get_comments(video_id):\n",
    "    # Initialize YouTube API client\n",
    "    youtube = build('youtube', 'v3', developerKey=API_KEY)\n",
    "    \n",
    "    # Fetch comments\n",
    "    request = youtube.commentThreads().list(\n",
    "        part='snippet',\n",
    "        videoId=video_id,\n",
    "        maxResults=100\n",
    "    )\n",
    "    response = request.execute()\n",
    "    \n",
    "    # Parse comments\n",
    "    comments = []\n",
    "    for item in response['items']:\n",
    "        comment = item['snippet']['topLevelComment']['snippet']\n",
    "        comments.append({\n",
    "            'Author': comment['authorDisplayName'],\n",
    "            'Comment': comment['textDisplay'],\n",
    "            'Likes': comment['likeCount'],\n",
    "            'Published At': comment['publishedAt']\n",
    "        })\n",
    "    \n",
    "    return pd.DataFrame(comments)"
   ]
  },
  {
   "cell_type": "code",
   "execution_count": 7,
   "metadata": {},
   "outputs": [
    {
     "data": {
      "text/html": [
       "<div>\n",
       "<style scoped>\n",
       "    .dataframe tbody tr th:only-of-type {\n",
       "        vertical-align: middle;\n",
       "    }\n",
       "\n",
       "    .dataframe tbody tr th {\n",
       "        vertical-align: top;\n",
       "    }\n",
       "\n",
       "    .dataframe thead th {\n",
       "        text-align: right;\n",
       "    }\n",
       "</style>\n",
       "<table border=\"1\" class=\"dataframe\">\n",
       "  <thead>\n",
       "    <tr style=\"text-align: right;\">\n",
       "      <th></th>\n",
       "      <th>Author</th>\n",
       "      <th>Comment</th>\n",
       "      <th>Likes</th>\n",
       "      <th>Published At</th>\n",
       "    </tr>\n",
       "  </thead>\n",
       "  <tbody>\n",
       "    <tr>\n",
       "      <th>0</th>\n",
       "      <td>@Runwithblue</td>\n",
       "      <td>How did I miss this one! Love some foam rollin...</td>\n",
       "      <td>1</td>\n",
       "      <td>2025-01-15T00:26:13Z</td>\n",
       "    </tr>\n",
       "    <tr>\n",
       "      <th>1</th>\n",
       "      <td>@AaronSimpson-x6x</td>\n",
       "      <td>Brilliant video, thank you. I did this a knobb...</td>\n",
       "      <td>1</td>\n",
       "      <td>2025-01-07T18:31:14Z</td>\n",
       "    </tr>\n",
       "    <tr>\n",
       "      <th>2</th>\n",
       "      <td>@daveweeden</td>\n",
       "      <td>Thanks Ash. Done this before but did it again ...</td>\n",
       "      <td>1</td>\n",
       "      <td>2025-01-05T15:51:36Z</td>\n",
       "    </tr>\n",
       "    <tr>\n",
       "      <th>3</th>\n",
       "      <td>@JuliaMichelleWall</td>\n",
       "      <td>Loved it. Thanks a lot</td>\n",
       "      <td>1</td>\n",
       "      <td>2024-12-28T23:03:30Z</td>\n",
       "    </tr>\n",
       "    <tr>\n",
       "      <th>4</th>\n",
       "      <td>@gracephosa3539</td>\n",
       "      <td>Thank you Ash, this is awesome</td>\n",
       "      <td>1</td>\n",
       "      <td>2024-12-27T18:38:28Z</td>\n",
       "    </tr>\n",
       "  </tbody>\n",
       "</table>\n",
       "</div>"
      ],
      "text/plain": [
       "               Author                                            Comment  \\\n",
       "0        @Runwithblue  How did I miss this one! Love some foam rollin...   \n",
       "1   @AaronSimpson-x6x  Brilliant video, thank you. I did this a knobb...   \n",
       "2         @daveweeden  Thanks Ash. Done this before but did it again ...   \n",
       "3  @JuliaMichelleWall                             Loved it. Thanks a lot   \n",
       "4     @gracephosa3539                     Thank you Ash, this is awesome   \n",
       "\n",
       "   Likes          Published At  \n",
       "0      1  2025-01-15T00:26:13Z  \n",
       "1      1  2025-01-07T18:31:14Z  \n",
       "2      1  2025-01-05T15:51:36Z  \n",
       "3      1  2024-12-28T23:03:30Z  \n",
       "4      1  2024-12-27T18:38:28Z  "
      ]
     },
     "execution_count": 7,
     "metadata": {},
     "output_type": "execute_result"
    }
   ],
   "source": [
    "# Example usage\n",
    "video_id = 'jxCrE2KH7Nk'  # Replace with an actual YouTube video ID\n",
    "comments_df = get_comments(video_id)\n",
    "comments_df.head()"
   ]
  },
  {
   "cell_type": "code",
   "execution_count": null,
   "metadata": {},
   "outputs": [],
   "source": []
  }
 ],
 "metadata": {
  "kernelspec": {
   "display_name": ".venv",
   "language": "python",
   "name": "python3"
  },
  "language_info": {
   "codemirror_mode": {
    "name": "ipython",
    "version": 3
   },
   "file_extension": ".py",
   "mimetype": "text/x-python",
   "name": "python",
   "nbconvert_exporter": "python",
   "pygments_lexer": "ipython3",
   "version": "3.11.6"
  }
 },
 "nbformat": 4,
 "nbformat_minor": 2
}
